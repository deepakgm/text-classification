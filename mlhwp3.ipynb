{
 "cells": [
  {
   "cell_type": "code",
   "execution_count": null,
   "metadata": {},
   "outputs": [],
   "source": []
  },
  {
   "cell_type": "code",
   "execution_count": null,
   "metadata": {},
   "outputs": [
    {
     "name": "stdout",
     "output_type": "stream",
     "text": [
      "starting to train..\n",
      "calculated mean\n"
     ]
    }
   ],
   "source": [
    "import csv \n",
    "import math\n",
    "import numpy\n",
    "\n",
    "print('starting to train..')\n",
    "\n",
    "# label_path = '/Users/apple/Desktop/workspace/20news-bydate/matlab/dgm.label'\n",
    "# data_path = '/Users/apple/Desktop/workspace/20news-bydate/matlab/dgm.data'\n",
    "# number_of_class=2\n",
    "# number_of_words=8\n",
    "\n",
    "label_path = '/Users/apple/Desktop/workspace/20news-bydate/matlab/train.label'\n",
    "data_path = '/Users/apple/Desktop/workspace/20news-bydate/matlab/train.data'\n",
    "number_of_class=20;\n",
    "number_of_words=61188\n",
    "\n",
    "# construct label dict\n",
    "f = open(label_path)\n",
    "reader = csv.reader(f,delimiter=\" \")\n",
    "label={}\n",
    "i=0;\n",
    "for rows in reader:\n",
    "    label[i]=int(rows[0])-1\n",
    "    i+=1\n",
    "    \n",
    "num_of_doc=len(label)\n",
    "\n",
    "# Nk - number of doc per class\n",
    "Nk=[0]*number_of_class;\n",
    "for i in label:\n",
    "    Nk[label[i]]=Nk[label[i]]+1;\n",
    "\n",
    "PrC=[0]*number_of_class\n",
    "for c in range(0,number_of_class):\n",
    "#     PrC[c]=math.log(Nk[c])-math.log(num_of_doc)\n",
    "    PrC[c]=Nk[c]/num_of_doc\n",
    "\n",
    "\n",
    "min_count=1\n",
    "# #twpc total nuber of words per class\n",
    "twpc = [0] * number_of_class\n",
    "# #fwpc freq words per class\n",
    "fwpc = [[min_count] * number_of_words for i in range(number_of_class)] \n",
    "# calculate X matix d*w\n",
    "X=numpy.zeros(shape=(num_of_doc,number_of_words))\n",
    "\n",
    "f = open(data_path)\n",
    "reader = csv.reader(f,delimiter=\" \")\n",
    "for rows in reader:\n",
    "    twpc[label[int(rows[0])-1]]+=int(rows[2])\n",
    "    fwpc[label[int(rows[0])-1]][int(rows[1])-1]+=int(rows[2])\n",
    "    X[int(rows[0])-1][int(rows[1])-1]=int(rows[2])\n",
    "\n",
    "# calcuate mean\n",
    "mean=numpy.zeros(shape=(number_of_class,number_of_words))\n",
    "for c in range(0,number_of_class):\n",
    "    for w in range(0,number_of_words):\n",
    "        mean[c][w]=fwpc[c][w]/Nk[c]\n",
    "print(\"calculated mean\")\n",
    "\n",
    "# calculate covariance matrix        \n",
    "sigma=numpy.zeros(shape=(number_of_words,number_of_words))\n",
    "for d in range(0,num_of_doc):\n",
    "    temp=X[d]-mean[label[d]]\n",
    "    sigma=sigma+numpy.outer(temp,temp)\n",
    "\n",
    "sigma=(1/num_of_doc)*sigma\n",
    "print(\"calculated sigma\")\n",
    "\n",
    "sigma_inv=numpy.linalg.pinv(sigma)\n",
    "print(\"calculated sigma_inv\")\n",
    "\n",
    "beta=[0]*number_of_class\n",
    "# beta calcuation\n",
    "for c in range(0,number_of_class):\n",
    "    beta[c]=0.5*(mean[c].T.dot(sigma_inv).dot(mean[c]))+math.log(PrC[c])\n",
    "print(\"calculated beta\")\n",
    "\n",
    "# smooth=15# smothing value\n",
    "\n",
    "# PrWgivenC = [[0.0] * number_of_words for i in range(number_of_class)]  \n",
    "# for c in range(0,number_of_class):\n",
    "#     for w in range(0,number_of_words):\n",
    "# #         PrWgivenC[c][w]=math.log(nk[c][w])-math.log(Nk[c])+10\n",
    "#         PrWgivenC[c][w]=math.log(fwpc[c][w])-math.log(twpc[c])+smooth\n",
    "        \n",
    "\n",
    "\n",
    "def getClass(x):\n",
    "    global beta,mean,sigma_inv\n",
    "    \n",
    "#     select arg max\n",
    "    max_c=0\n",
    "    max_val=mean[0].T.dot(sigma_inv).dot(x)\n",
    "    for c in range(1,number_of_class):\n",
    "        t=mean[0].T.dot(sigma_inv).dot(x)\n",
    "        if max_val<t:\n",
    "            max_val=t\n",
    "            max_c=c\n",
    "    return max_c;\n",
    "\n",
    "# wc=numpy.array([0,0,2,0,2,3,0,0])\n",
    "# wc=numpy.array([1,0,1,1,0,0,0,0])\n",
    "# wc=numpy.array([0,0,0,2,0,0,3,1])\n",
    "# print(getClass(wc))\n",
    "\n",
    "print(\"done!\")\n"
   ]
  },
  {
   "cell_type": "code",
   "execution_count": null,
   "metadata": {},
   "outputs": [],
   "source": [
    "# print('starting to buid wc for test')\n",
    "# test_label_path = '/Users/apple/Desktop/workspace/20news-bydate/matlab/test.label'\n",
    "# test_data_path = '/Users/apple/Desktop/workspace/20news-bydate/matlab/test.data'\n",
    "# f = open(test_label_path)\n",
    "# reader = csv.reader(f,delimiter=\" \")\n",
    "# tlabel={}\n",
    "# i=0;\n",
    "# for rows in reader:\n",
    "#     tlabel[i]=int(rows[0])-1\n",
    "#     i+=1\n",
    "\n",
    "# no_of_test_doc=7505\n",
    "\n",
    "# wc = [[0] * number_of_words for i in range(no_of_test_doc)] \n",
    "\n",
    "# f = open(test_data_path)\n",
    "# reader = csv.reader(f,delimiter=\" \")\n",
    "# for rows in reader:\n",
    "#     wc[int(rows[0])-1][int(rows[1])-1]+=int(rows[2])\n",
    "\n",
    "# print(\"created wc\")"
   ]
  },
  {
   "cell_type": "code",
   "execution_count": null,
   "metadata": {},
   "outputs": [],
   "source": [
    "print(\"starting to test\")\n",
    "f = open(test_label_path)\n",
    "reader = csv.reader(f,delimiter=\" \")\n",
    "tlabel={}\n",
    "i=0;\n",
    "for rows in reader:\n",
    "    tlabel[i]=int(rows[0])-1\n",
    "    i+=1\n",
    "    \n",
    "correct=0\n",
    "incorrect=0\n",
    "for i in range(0,no_of_test_doc):\n",
    "    if(i%1000==0):\n",
    "        print(\"-- doc index:\"+str(i))\n",
    "    l=getClass(wc[i])\n",
    "    if l==tlabel[i]:\n",
    "        correct+=1\n",
    "    else:\n",
    "        incorrect+=1\n",
    "\n",
    "print(\"final result: c: \"+str(correct)+\"  e: \"+str(incorrect))\n",
    "print(\"Accuracy:\"+str(correct/(correct+incorrect)))"
   ]
  },
  {
   "cell_type": "code",
   "execution_count": null,
   "metadata": {},
   "outputs": [],
   "source": []
  },
  {
   "cell_type": "code",
   "execution_count": 65,
   "metadata": {},
   "outputs": [
    {
     "data": {
      "text/plain": [
       "[4.243294432868239, 0.9402139042375144]"
      ]
     },
     "execution_count": 65,
     "metadata": {},
     "output_type": "execute_result"
    }
   ],
   "source": [
    "beta"
   ]
  },
  {
   "cell_type": "code",
   "execution_count": null,
   "metadata": {},
   "outputs": [],
   "source": []
  },
  {
   "cell_type": "code",
   "execution_count": null,
   "metadata": {},
   "outputs": [],
   "source": []
  }
 ],
 "metadata": {
  "kernelspec": {
   "display_name": "Python 3",
   "language": "python",
   "name": "python3"
  },
  "language_info": {
   "codemirror_mode": {
    "name": "ipython",
    "version": 3
   },
   "file_extension": ".py",
   "mimetype": "text/x-python",
   "name": "python",
   "nbconvert_exporter": "python",
   "pygments_lexer": "ipython3",
   "version": "3.7.4"
  }
 },
 "nbformat": 4,
 "nbformat_minor": 2
}
