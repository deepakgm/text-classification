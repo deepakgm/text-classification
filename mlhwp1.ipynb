{
 "cells": [
  {
   "cell_type": "code",
   "execution_count": null,
   "metadata": {},
   "outputs": [],
   "source": []
  },
  {
   "cell_type": "code",
   "execution_count": 91,
   "metadata": {},
   "outputs": [
    {
     "name": "stdout",
     "output_type": "stream",
     "text": [
      "starting to train..\n",
      "done!\n"
     ]
    }
   ],
   "source": [
    "import csv \n",
    "import math\n",
    "from collections import defaultdict\n",
    "\n",
    "# label_path = '/Users/apple/Desktop/workspace/20news-bydate/matlab/dgm.label'\n",
    "# data_path = '/Users/apple/Desktop/workspace/20news-bydate/matlab/dgm.data'\n",
    "# number_of_class=2\n",
    "# number_of_words=8\n",
    "\n",
    "print('starting to train..')\n",
    "\n",
    "label_path = '/Users/apple/Desktop/workspace/20news-bydate/matlab/train.label'\n",
    "data_path = '/Users/apple/Desktop/workspace/20news-bydate/matlab/train.data'\n",
    "number_of_class=20;\n",
    "number_of_words=61188\n",
    "\n",
    "# construct label dict\n",
    "f = open(label_path)\n",
    "reader = csv.reader(f,delimiter=\" \")\n",
    "label={}\n",
    "i=0;\n",
    "for rows in reader:\n",
    "    label[i]=int(rows[0])-1\n",
    "    i+=1\n",
    "    \n",
    "num_of_doc=len(label)\n",
    "\n",
    "# Nk - number of doc per class\n",
    "Nk=[0]*number_of_class;\n",
    "for i in label:\n",
    "    Nk[label[i]]=Nk[label[i]]+1;\n",
    "# adj\n",
    "# Nk[6]=400\n",
    "\n",
    "# nk[c][w]= number of docs with word 'w' in class 'c'\n",
    "min_count=1\n",
    "nk = [[min_count] * number_of_words for i in range(number_of_class)]   \n",
    "f = open(data_path)\n",
    "reader = csv.reader(f,delimiter=\" \")\n",
    "for rows in reader:\n",
    "    nk[label[int(rows[0])-1]][int(rows[1])-1]+=1\n",
    "\n",
    "\n",
    "PrWgivenC = [[0.0] * number_of_words for i in range(number_of_class)]  \n",
    "for c in range(0,number_of_class):\n",
    "    for w in range(0,number_of_words):\n",
    "        PrWgivenC[c][w]=math.log(nk[c][w])-math.log(Nk[c])+10\n",
    "#         PrWgivenC[c][w]=nk[c][w]/Nk[c]\n",
    "        \n",
    "PrC=[0]*number_of_class\n",
    "for c in range(0,number_of_class):\n",
    "    PrC[c]=math.log(Nk[c])-math.log(num_of_doc)\n",
    "#     PrC[c]=Nk[c]/num_of_doc\n",
    "\n",
    "def getClass(wc):\n",
    "    global PrC,PrWgivenC\n",
    "    PrCgivenW=[0.0]*number_of_words\n",
    "    sum_pr=0.0;\n",
    "    for c in range(0,number_of_class):\n",
    "#         pr=1.0;\n",
    "        pr=0;\n",
    "        for w in range(0,number_of_words):\n",
    "            pr=pr+(wc[w]*PrWgivenC[c][w])\n",
    "#                    + (1-wc[w])*(1-PrWgivenC[c][w]))\n",
    "#             pr=pr*(wc[w]*PrWgivenC[c][w] + (1-wc[w])*(1-PrWgivenC[c][w]))\n",
    "#             if wc[w]!=0 and PrWgivenC[c][w]!=0:\n",
    "#                 pr=pr*PrWgivenC[c][w]\n",
    "#                 PrCgivenW[c]=pr*PrC[c]\n",
    "#         PrCgivenW[c]=pr*PrC[c]\n",
    "        PrCgivenW[c]=pr+PrC[c]\n",
    "#         print(\"class: \"+str(c)+\"  pr: \"+str(PrCgivenW[c]))\n",
    "        sum_pr+=PrCgivenW[c]\n",
    "    if sum_pr==0:\n",
    "        return -1\n",
    "    \n",
    "    max_c=0\n",
    "    for c in range(0,number_of_class):\n",
    "        PrCgivenW[c]=PrCgivenW[c]/sum_pr\n",
    "        if PrCgivenW[max_c]<PrCgivenW[c]:\n",
    "            max_c=c\n",
    "    return max_c;\n",
    "\n",
    "\n",
    "\n",
    "\n",
    "# wc=[0,0,0,1,0,0,1,1]\n",
    "# wc=[0,1,1,1,0,0,1,1] \n",
    "# wc=[1,0,1,0,1,1,0,0] \n",
    "\n",
    "# print(getClass(wc))\n",
    "    \n",
    "\n",
    "print(\"done!\")\n"
   ]
  },
  {
   "cell_type": "code",
   "execution_count": 103,
   "metadata": {},
   "outputs": [
    {
     "name": "stdout",
     "output_type": "stream",
     "text": [
      "starting to test\n",
      "created wc\n"
     ]
    }
   ],
   "source": [
    "print('starting to buid wc for test')\n",
    "test_label_path = '/Users/apple/Desktop/workspace/20news-bydate/matlab/test.label'\n",
    "test_data_path = '/Users/apple/Desktop/workspace/20news-bydate/matlab/test.data'\n",
    "f = open(test_label_path)\n",
    "reader = csv.reader(f,delimiter=\" \")\n",
    "tlabel={}\n",
    "i=0;\n",
    "for rows in reader:\n",
    "    tlabel[i]=int(rows[0])-1\n",
    "    i+=1\n",
    "\n",
    "no_of_test_doc=7505\n",
    "\n",
    "wc = [[0] * number_of_words for i in range(no_of_test_doc)] \n",
    "\n",
    "f = open(test_data_path)\n",
    "reader = csv.reader(f,delimiter=\" \")\n",
    "for rows in reader:\n",
    "    wc[int(rows[0])-1][int(rows[1])-1]=1\n",
    "\n",
    "print(\"created wc\")"
   ]
  },
  {
   "cell_type": "code",
   "execution_count": 108,
   "metadata": {},
   "outputs": [
    {
     "name": "stdout",
     "output_type": "stream",
     "text": [
      "starting to test\n",
      "final result: c: 4485  e: 3020\n"
     ]
    }
   ],
   "source": [
    "print(\"starting to test\")\n",
    "f = open(test_label_path)\n",
    "reader = csv.reader(f,delimiter=\" \")\n",
    "tlabel={}\n",
    "i=0;\n",
    "for rows in reader:\n",
    "    tlabel[i]=int(rows[0])-1\n",
    "    i+=1\n",
    "    \n",
    "correct=0\n",
    "incorrect=0\n",
    "for i in range(0,7505):\n",
    "    l=getClass(wc[i])\n",
    "    if l==tlabel[i]:\n",
    "        correct+=1\n",
    "    else:\n",
    "        incorrect+=1\n",
    "#     print(\"actual class:\"+str(label[i])+\"  pred:\"+str(l))\n",
    "\n",
    "print(\"final result: c: \"+str(correct)+\"  e: \"+str(incorrect))"
   ]
  },
  {
   "cell_type": "code",
   "execution_count": 109,
   "metadata": {},
   "outputs": [
    {
     "data": {
      "text/plain": [
       "0.597601598934044"
      ]
     },
     "execution_count": 109,
     "metadata": {},
     "output_type": "execute_result"
    }
   ],
   "source": [
    "correct/7505"
   ]
  },
  {
   "cell_type": "code",
   "execution_count": 73,
   "metadata": {},
   "outputs": [
    {
     "data": {
      "text/plain": [
       "0.05315467210932647"
      ]
     },
     "execution_count": 73,
     "metadata": {},
     "output_type": "execute_result"
    }
   ],
   "source": [
    "PrC[15]"
   ]
  },
  {
   "cell_type": "code",
   "execution_count": null,
   "metadata": {},
   "outputs": [],
   "source": []
  }
 ],
 "metadata": {
  "kernelspec": {
   "display_name": "Python 3",
   "language": "python",
   "name": "python3"
  },
  "language_info": {
   "codemirror_mode": {
    "name": "ipython",
    "version": 3
   },
   "file_extension": ".py",
   "mimetype": "text/x-python",
   "name": "python",
   "nbconvert_exporter": "python",
   "pygments_lexer": "ipython3",
   "version": "3.7.4"
  }
 },
 "nbformat": 4,
 "nbformat_minor": 2
}
